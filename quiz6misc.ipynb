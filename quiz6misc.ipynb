import math
import matplotlib.pyplot as plt
import matplotlib.animation as animation

import numpy as np
from scipy.optimize import fsolve

def compute(h):
    ang = math.radians(41.8)

    rba_x = 0.4*math.cos(ang + h)
    rba_y = 0.4*math.sin(ang + h)

    rcb_x = 0.35*math.cos(ang - h)
    rcb_y = 0.35*math.sin(ang-h)

    w_bc_rat = -rba_x/rcb_x

    w_ab_divisor = -rcb_y * w_bc_rat - rba_y

    w_ab = 0.1/w_ab_divisor
    w_bc = w_ab*w_bc_rat

    # print(w_bc_rat)
    # print(w_ab_divisor)
    # print(w_ab)
    # print(w_bc)
    return w_bc_rat, w_ab_divisor, w_ab, w_bc


def thetaAtX(p,X):
    t1, t2 = p
    y = .5
    return (0.4 * math.cos(t1) + 0.35 * math.cos(t2) - X,0.4 * math.sin(t1) + 0.35 * math.sin(t2) - y)

x_p1 = -.4 * math.cos(math.pi / 6) + 0.35 * math.cos(math.pi / 3)

Xmin = -.75*math.acos(math.asin(-.5/-.75))
Xmax = -1.0 * Xmin

Xrange = np.arange(Xmin+0.01,Xmax-.01,0.001)

t1_ta, t2_ta = fsolve(thetaAtX, [math.pi / 2, math.pi / 2], args=x_p1)
t1_t = t1_ta % (2 * math.pi)
t2_t = t2_ta % (2 * math.pi)


print(t1_t, t2_t)
def computeVelGen(t1, t2):
    L_ab = .4
    L_bc = .35
    w_ab = -.1 / (L_ab * (-math.sin(t2) * math.cos(t1) / math.cos(t2) + math.sin(t1)))
    w_bc = -w_ab * L_ab * math.cos(t1) / (L_bc * math.cos(t2))
    
    return w_ab, w_bc
wab_t, wbc_t = computeVelGen(t1_t, t2_t)
print(wab_t, wbc_t)
# h_val = np.arange(0.05, 0, -0.00001)
# w_bc_rat = np.zeros(h_val.shape)
# w_ab_divisor = np.zeros(h_val.shape)
w_ab = np.zeros(Xrange.shape)
w_bc = np.zeros(Xrange.shape)
t1 = np.zeros(Xrange.shape)
t2 = np.zeros(Xrange.shape)
t1_a = np.zeros(Xrange.shape)
t2_a = np.zeros(Xrange.shape)
t1_prev, t2_prev = fsolve(thetaAtX, [math.asin(-.5 / -.75) + math.pi / 2, math.asin(-.5 / -.75)
+ math.pi/2],args=Xrange[0])

t = 0.01
xpos = -.75*math.acos(math.asin(-.5/-.75))
w_ab_all = []
w_bc_all = []
xy_bc = []
xy_ab = []
while xpos < Xmax:
    w_ab_t, w_bc_t = computeVelGen(t1_prev, t2_prev)
    w_ab_all.append(w_ab_t)
    w_bc_all.append(w_bc_t)
    xy_bc.append([.35 * math.cos(t1_prev), .35 * math.cos(t1_prev)])
    xy_ab.append([.4 * math.cos(t2_prev),.4 * math.cos(t2_prev)])

    t1_prev = t1_prev + t * w_ab_t
    t2_prev = t2_prev + t * w_bc_t
    xpos = .4 * math.cos(t2_prev) + .35 * math.cos(t1_prev)
    print(xpos)

fig, axarr = plt.subplots(nrows=1, ncols=1, figsize=(10, 6))
axarr.set_xlim(left=-1, right=1)
axarr.set_ylim(bottom=-1, top=1)

def animate(i):
    a = [0, 0]
    b = [xy_ab[i][0] + a[0], xy_ab[i][1] + a[1]]
    c = [xy_bc[i][0] + b[0], xy_bc[i][1] + b[1]]
    d = [c[0] + .3 * math.cos(math.pi / 3), c[1] - .3 * math.sin(math.pi / 3)]

    axarr.plot(np.array([a[0], b[0]]), np.array([a[1], b[1]]))
    axarr.plot(np.array([b[0], c[0]]), np.array([b[1], c[1]]))
    axarr.plot(np.array([c[0], d[0]]), np.array([c[1], d[1]]))
    axarr.plot([-.75*math.acos(math.asin(-.5/-.75)),c[0]],[c[1],c[1]])

ani=animation.FuncAnimation(fig, animate, frames=len(w_ab_all), repeat=True)
ani.save('test.html')
# for i, XVAL in enumerate(Xrange):
#     t1_a, t2_a = fsolve(thetaAtX, [t1_prev, t2_prev], args=XVAL)
#     t1[i] = t1_a % (2 * math.pi)
#     t2[i] = t2_a % (2 * math.pi)
#     t1_prev = t1[i]
#     t2_prev = t2[i]
#     w_ab[i], w_bc[i] = computeVelGen(t1[i], t2[i])
    

# for i,h in enumerate(h_val):
#     w_bc_rat[i], w_ab_divisor[i], w_ab[i], w_bc[i] = compute(h)
# plt.figure()
# plt.plot(h_val, w_ab_divisor)

plt.figure()
plt.plot(Xrange, w_ab)
plt.plot(Xrange, w_bc)
plt.plot(np.array([x_p1,x_p1]),np.array([-100,100]))
plt.legend(('w_ab', 'w_bc', 'Position problem 1'))
plt.xlabel('Horizontal Position')
plt.ylabel('Angular Velocity')
plt.xlim((Xrange[0], Xrange[-1]))
plt.ylim((-1,1))
plt.figure()    
plt.plot(Xrange, np.absolute(t1))
plt.plot(Xrange, np.absolute(t2))
plt.xlabel('Horizontal Position')
plt.ylabel('Angle')
plt.show()
print('')

